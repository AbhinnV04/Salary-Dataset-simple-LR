{
 "cells": [
  {
   "cell_type": "markdown",
   "id": "f2d2083f",
   "metadata": {},
   "source": [
    "# Salary Dataset - Simple linear regression\n",
    "Dataset link - https://www.kaggle.com/datasets/abhishek14398/salary-dataset-simple-linear-regression<br>\n",
    "Markdown math - I took that from my ml course cause im too lazy to do all that myself :P"
   ]
  },
  {
   "cell_type": "markdown",
   "id": "1d416139",
   "metadata": {},
   "source": [
    "## Abstract\n",
    "\n",
    "This Jupyter notebook focuses on the fundamentals of data science and linear regression. The primary objective is to develop a linear regression model from scratch using gradient descent and deploy it as a web application using the Streamlit library."
   ]
  },
  {
   "cell_type": "markdown",
   "id": "af3aec8b",
   "metadata": {},
   "source": [
    "## Importing libraries "
   ]
  },
  {
   "cell_type": "code",
   "execution_count": 1,
   "id": "86af40f2",
   "metadata": {},
   "outputs": [],
   "source": [
    "import pandas as pd\n",
    "import numpy as np\n",
    "import matplotlib.pyplot as plt\n",
    "import seaborn as sns\n",
    "import pickle\n",
    "from sklearn.metrics import mean_squared_error\n",
    "from sklearn.metrics import r2_score\n",
    "from sklearn.linear_model import LinearRegression\n",
    "\n",
    "plt.style.use('dark_background')"
   ]
  },
  {
   "cell_type": "markdown",
   "id": "c9c6145a",
   "metadata": {},
   "source": [
    "***"
   ]
  },
  {
   "cell_type": "markdown",
   "id": "03694015",
   "metadata": {},
   "source": [
    "## Exploratory Data Analysis "
   ]
  },
  {
   "cell_type": "code",
   "execution_count": 2,
   "id": "7a6574c2",
   "metadata": {},
   "outputs": [
    {
     "data": {
      "text/html": [
       "<div>\n",
       "<style scoped>\n",
       "    .dataframe tbody tr th:only-of-type {\n",
       "        vertical-align: middle;\n",
       "    }\n",
       "\n",
       "    .dataframe tbody tr th {\n",
       "        vertical-align: top;\n",
       "    }\n",
       "\n",
       "    .dataframe thead th {\n",
       "        text-align: right;\n",
       "    }\n",
       "</style>\n",
       "<table border=\"1\" class=\"dataframe\">\n",
       "  <thead>\n",
       "    <tr style=\"text-align: right;\">\n",
       "      <th></th>\n",
       "      <th>Unnamed: 0</th>\n",
       "      <th>YearsExperience</th>\n",
       "      <th>Salary</th>\n",
       "    </tr>\n",
       "  </thead>\n",
       "  <tbody>\n",
       "    <tr>\n",
       "      <th>0</th>\n",
       "      <td>0</td>\n",
       "      <td>1.2</td>\n",
       "      <td>39344.0</td>\n",
       "    </tr>\n",
       "    <tr>\n",
       "      <th>1</th>\n",
       "      <td>1</td>\n",
       "      <td>1.4</td>\n",
       "      <td>46206.0</td>\n",
       "    </tr>\n",
       "    <tr>\n",
       "      <th>2</th>\n",
       "      <td>2</td>\n",
       "      <td>1.6</td>\n",
       "      <td>37732.0</td>\n",
       "    </tr>\n",
       "    <tr>\n",
       "      <th>3</th>\n",
       "      <td>3</td>\n",
       "      <td>2.1</td>\n",
       "      <td>43526.0</td>\n",
       "    </tr>\n",
       "    <tr>\n",
       "      <th>4</th>\n",
       "      <td>4</td>\n",
       "      <td>2.3</td>\n",
       "      <td>39892.0</td>\n",
       "    </tr>\n",
       "  </tbody>\n",
       "</table>\n",
       "</div>"
      ],
      "text/plain": [
       "   Unnamed: 0  YearsExperience   Salary\n",
       "0           0              1.2  39344.0\n",
       "1           1              1.4  46206.0\n",
       "2           2              1.6  37732.0\n",
       "3           3              2.1  43526.0\n",
       "4           4              2.3  39892.0"
      ]
     },
     "execution_count": 2,
     "metadata": {},
     "output_type": "execute_result"
    }
   ],
   "source": [
    "df = pd.read_csv('Salary_dataset.csv')\n",
    "df.head(5)"
   ]
  },
  {
   "cell_type": "markdown",
   "id": "fa30bb05",
   "metadata": {},
   "source": [
    "#### Cleaning Data\n",
    "1. Feature Scaling for Salary.\n",
    "2. Dropping 'Unnamed: 0' feature as it has no use.\n",
    "3. Renaming columns"
   ]
  },
  {
   "cell_type": "code",
   "execution_count": 3,
   "id": "db42ac1a",
   "metadata": {},
   "outputs": [],
   "source": [
    "df['Salary'] = df['Salary']/10000\n",
    "df = df.rename(columns={'YearsExperience':'Experience(Years)', 'Salary':'Salary($10000)'})\n",
    "df = df.drop('Unnamed: 0', axis=1)"
   ]
  },
  {
   "cell_type": "code",
   "execution_count": 4,
   "id": "39042066",
   "metadata": {},
   "outputs": [
    {
     "data": {
      "text/html": [
       "<div>\n",
       "<style scoped>\n",
       "    .dataframe tbody tr th:only-of-type {\n",
       "        vertical-align: middle;\n",
       "    }\n",
       "\n",
       "    .dataframe tbody tr th {\n",
       "        vertical-align: top;\n",
       "    }\n",
       "\n",
       "    .dataframe thead th {\n",
       "        text-align: right;\n",
       "    }\n",
       "</style>\n",
       "<table border=\"1\" class=\"dataframe\">\n",
       "  <thead>\n",
       "    <tr style=\"text-align: right;\">\n",
       "      <th></th>\n",
       "      <th>Experience(Years)</th>\n",
       "      <th>Salary($10000)</th>\n",
       "    </tr>\n",
       "  </thead>\n",
       "  <tbody>\n",
       "    <tr>\n",
       "      <th>0</th>\n",
       "      <td>1.2</td>\n",
       "      <td>3.9344</td>\n",
       "    </tr>\n",
       "    <tr>\n",
       "      <th>1</th>\n",
       "      <td>1.4</td>\n",
       "      <td>4.6206</td>\n",
       "    </tr>\n",
       "    <tr>\n",
       "      <th>2</th>\n",
       "      <td>1.6</td>\n",
       "      <td>3.7732</td>\n",
       "    </tr>\n",
       "    <tr>\n",
       "      <th>3</th>\n",
       "      <td>2.1</td>\n",
       "      <td>4.3526</td>\n",
       "    </tr>\n",
       "    <tr>\n",
       "      <th>4</th>\n",
       "      <td>2.3</td>\n",
       "      <td>3.9892</td>\n",
       "    </tr>\n",
       "  </tbody>\n",
       "</table>\n",
       "</div>"
      ],
      "text/plain": [
       "   Experience(Years)  Salary($10000)\n",
       "0                1.2          3.9344\n",
       "1                1.4          4.6206\n",
       "2                1.6          3.7732\n",
       "3                2.1          4.3526\n",
       "4                2.3          3.9892"
      ]
     },
     "execution_count": 4,
     "metadata": {},
     "output_type": "execute_result"
    }
   ],
   "source": [
    "df.head()"
   ]
  },
  {
   "cell_type": "markdown",
   "id": "496bfca8",
   "metadata": {},
   "source": [
    "#### Checking for missing values"
   ]
  },
  {
   "cell_type": "code",
   "execution_count": 5,
   "id": "253834a9",
   "metadata": {},
   "outputs": [
    {
     "name": "stdout",
     "output_type": "stream",
     "text": [
      "Null values - \n",
      " Experience(Years)  Salary($10000)\n",
      "False              False             30\n",
      "Name: count, dtype: int64 \n",
      "\n",
      "Shape - (30, 2)\n"
     ]
    }
   ],
   "source": [
    "print(f'Null values - \\n {df.isnull().value_counts()}', f'\\n\\nShape - {df.shape}')"
   ]
  },
  {
   "cell_type": "markdown",
   "id": "e8e7b385",
   "metadata": {},
   "source": [
    "There are no missing values"
   ]
  },
  {
   "cell_type": "markdown",
   "id": "dd8fd03f",
   "metadata": {},
   "source": [
    "#### Univariate Analysis"
   ]
  },
  {
   "cell_type": "code",
   "execution_count": 6,
   "id": "bb1d1734",
   "metadata": {},
   "outputs": [],
   "source": [
    "def plots(df, label):\n",
    "    \"\"\"\n",
    "    Plots the datapoints for the input feature\n",
    "    Args - \n",
    "        df (DataFrame): data for the plot\n",
    "        label (string): plot target\n",
    "    Return - \n",
    "        plots : boxplot and histplot\n",
    "    \"\"\"\n",
    "    fig, axes = plt.subplots(2, 1, figsize=(6,6), \n",
    "                             gridspec_kw={\"height_ratios\": (.15, .85)})\n",
    "    sns.boxplot(data=df, ax=axes[0], x = label)\n",
    "    sns.histplot(data=df, ax=axes[1], x = label)\n",
    "    \n",
    "    plt.tight_layout()\n",
    "    plt.show()"
   ]
  },
  {
   "cell_type": "code",
   "execution_count": 7,
   "id": "3323ab36",
   "metadata": {},
   "outputs": [
    {
     "data": {
      "text/html": [
       "<div>\n",
       "<style scoped>\n",
       "    .dataframe tbody tr th:only-of-type {\n",
       "        vertical-align: middle;\n",
       "    }\n",
       "\n",
       "    .dataframe tbody tr th {\n",
       "        vertical-align: top;\n",
       "    }\n",
       "\n",
       "    .dataframe thead th {\n",
       "        text-align: right;\n",
       "    }\n",
       "</style>\n",
       "<table border=\"1\" class=\"dataframe\">\n",
       "  <thead>\n",
       "    <tr style=\"text-align: right;\">\n",
       "      <th></th>\n",
       "      <th>Experience(Years)</th>\n",
       "      <th>Salary($10000)</th>\n",
       "    </tr>\n",
       "  </thead>\n",
       "  <tbody>\n",
       "    <tr>\n",
       "      <th>count</th>\n",
       "      <td>30.000000</td>\n",
       "      <td>30.000000</td>\n",
       "    </tr>\n",
       "    <tr>\n",
       "      <th>mean</th>\n",
       "      <td>5.413333</td>\n",
       "      <td>7.600400</td>\n",
       "    </tr>\n",
       "    <tr>\n",
       "      <th>std</th>\n",
       "      <td>2.837888</td>\n",
       "      <td>2.741443</td>\n",
       "    </tr>\n",
       "    <tr>\n",
       "      <th>min</th>\n",
       "      <td>1.200000</td>\n",
       "      <td>3.773200</td>\n",
       "    </tr>\n",
       "    <tr>\n",
       "      <th>25%</th>\n",
       "      <td>3.300000</td>\n",
       "      <td>5.672175</td>\n",
       "    </tr>\n",
       "    <tr>\n",
       "      <th>50%</th>\n",
       "      <td>4.800000</td>\n",
       "      <td>6.523800</td>\n",
       "    </tr>\n",
       "    <tr>\n",
       "      <th>75%</th>\n",
       "      <td>7.800000</td>\n",
       "      <td>10.054575</td>\n",
       "    </tr>\n",
       "    <tr>\n",
       "      <th>max</th>\n",
       "      <td>10.600000</td>\n",
       "      <td>12.239200</td>\n",
       "    </tr>\n",
       "  </tbody>\n",
       "</table>\n",
       "</div>"
      ],
      "text/plain": [
       "       Experience(Years)  Salary($10000)\n",
       "count          30.000000       30.000000\n",
       "mean            5.413333        7.600400\n",
       "std             2.837888        2.741443\n",
       "min             1.200000        3.773200\n",
       "25%             3.300000        5.672175\n",
       "50%             4.800000        6.523800\n",
       "75%             7.800000       10.054575\n",
       "max            10.600000       12.239200"
      ]
     },
     "execution_count": 7,
     "metadata": {},
     "output_type": "execute_result"
    }
   ],
   "source": [
    "df.describe()"
   ]
  },
  {
   "cell_type": "code",
   "execution_count": 8,
   "id": "42814937",
   "metadata": {},
   "outputs": [
    {
     "data": {
      "image/png": "[encoded data removed]",
      "text/plain": [
       "<Figure size 600x600 with 2 Axes>"
      ]
     },
     "metadata": {},
     "output_type": "display_data"
    }
   ],
   "source": [
    "plots(df, 'Experience(Years)')"
   ]
  },
  {
   "cell_type": "code",
   "execution_count": 9,
   "id": "b369e58d",
   "metadata": {},
   "outputs": [
    {
     "data": {
      "image/png": "[encoded data removed]",
      "text/plain": [
       "<Figure size 600x600 with 2 Axes>"
      ]
     },
     "metadata": {},
     "output_type": "display_data"
    }
   ],
   "source": [
    "plots(df, 'Salary($10000)')"
   ]
  },
  {
   "cell_type": "markdown",
   "id": "1090cd4d",
   "metadata": {},
   "source": [
    "#### Correlation"
   ]
  },
  {
   "cell_type": "code",
   "execution_count": 10,
   "id": "8d61be96",
   "metadata": {},
   "outputs": [
    {
     "data": {
      "text/html": [
       "<div>\n",
       "<style scoped>\n",
       "    .dataframe tbody tr th:only-of-type {\n",
       "        vertical-align: middle;\n",
       "    }\n",
       "\n",
       "    .dataframe tbody tr th {\n",
       "        vertical-align: top;\n",
       "    }\n",
       "\n",
       "    .dataframe thead th {\n",
       "        text-align: right;\n",
       "    }\n",
       "</style>\n",
       "<table border=\"1\" class=\"dataframe\">\n",
       "  <thead>\n",
       "    <tr style=\"text-align: right;\">\n",
       "      <th></th>\n",
       "      <th>Experience(Years)</th>\n",
       "      <th>Salary($10000)</th>\n",
       "    </tr>\n",
       "  </thead>\n",
       "  <tbody>\n",
       "    <tr>\n",
       "      <th>Experience(Years)</th>\n",
       "      <td>1.000000</td>\n",
       "      <td>0.978242</td>\n",
       "    </tr>\n",
       "    <tr>\n",
       "      <th>Salary($10000)</th>\n",
       "      <td>0.978242</td>\n",
       "      <td>1.000000</td>\n",
       "    </tr>\n",
       "  </tbody>\n",
       "</table>\n",
       "</div>"
      ],
      "text/plain": [
       "                   Experience(Years)  Salary($10000)\n",
       "Experience(Years)           1.000000        0.978242\n",
       "Salary($10000)              0.978242        1.000000"
      ]
     },
     "execution_count": 10,
     "metadata": {},
     "output_type": "execute_result"
    }
   ],
   "source": [
    "df.corr()"
   ]
  },
  {
   "cell_type": "markdown",
   "id": "c4214b1a",
   "metadata": {},
   "source": [
    "Conclusion 1: There is a relatively high Pearson's factor which indicates a linear relation between the data."
   ]
  },
  {
   "cell_type": "markdown",
   "id": "f35da5cc",
   "metadata": {},
   "source": [
    "#### Bivariate Analysis"
   ]
  },
  {
   "cell_type": "code",
   "execution_count": 56,
   "id": "678e8c9f",
   "metadata": {},
   "outputs": [
    {
     "data": {
      "image/png": "[encoded data removed]",
      "text/plain": [
       "<Figure size 640x480 with 1 Axes>"
      ]
     },
     "metadata": {},
     "output_type": "display_data"
    },
    {
     "data": {
      "text/plain": [
       "<Figure size 600x600 with 0 Axes>"
      ]
     },
     "metadata": {},
     "output_type": "display_data"
    }
   ],
   "source": [
    "sns.regplot(data=df, \n",
    "            x='Experience(Years)',\n",
    "            y='Salary($10000)',\n",
    "            marker='x')\n",
    "plt.figure(figsize=(6,6))\n",
    "plt.show()"
   ]
  },
  {
   "cell_type": "markdown",
   "id": "6911595b",
   "metadata": {},
   "source": [
    "Conclusion 2: Linear relation is observed in the figure above."
   ]
  },
  {
   "cell_type": "markdown",
   "id": "e2fb938b",
   "metadata": {},
   "source": [
    "***"
   ]
  },
  {
   "cell_type": "markdown",
   "id": "2546765c",
   "metadata": {},
   "source": [
    "## Linear Regression (from scratch)\n",
    "using Gradient Descent"
   ]
  },
  {
   "cell_type": "markdown",
   "id": "c629d499",
   "metadata": {},
   "source": [
    "Linear Regression Model is defined as:\n",
    "$$ f_{(w,b)}(x^{(i)}) = \\vec{w} ⋅ \\vec{x}^{(i)} + b $$\n",
    "where f is our model (or function/hypothesis), x is our variable, and w & b are our parameters. <br>\n",
    " -> w: slope<br>-> b: intercept\n",
    "\n",
    "<img src=\"https://pimages.toolbox.com/wp-content/uploads/2022/04/07152950/26-3.png\" alt=\"Image\" width=\"400\"> <br>\n",
    "Here, we have one dependent and one independent variable only.\n",
    "* The prediction of the model for that example \n",
    "$$ f_{wb}(x^{(i)}) =  wx^{(i)} + b $$\n",
    "* The cost for that example  $$cost^{(i)} =  (f_{wb} - y^{(i)})^2$$\n",
    "* Cost function will be defined as:\n",
    "$$ J(w,b) = \\frac{1}{2m} \\sum_{i=1}^{m}(cost^{(i)}) $$\n"
   ]
  },
  {
   "cell_type": "code",
   "execution_count": 12,
   "id": "eb0190bd",
   "metadata": {},
   "outputs": [],
   "source": [
    "def compute_cost(X, y, w=0, b=0):\n",
    "    \"\"\"\n",
    "    Computes the squared error cost function for linear regression.\n",
    "    Args - \n",
    "        X (ndarray): Input to the model\n",
    "        y (ndarray): target\n",
    "        w,b (scalar): parameters\n",
    "    Return - \n",
    "        total_cost (float): cost of using w,b as the parameters for linear regression\n",
    "               to fit the data points in x and y\n",
    "    \"\"\"\n",
    "    f_wb: int = 0       # variable can now be explicitly declared in python, so cool :) \n",
    "    total_cost: int = 0 # but it is tedious and i'm tired so just using it here!\n",
    "    m = len(X)\n",
    "    \n",
    "    for i in range(m):\n",
    "        f_wb = np.dot(w, X[i]) + b # dot is necessary for muliple Linear regression not here \n",
    "        cost = np.square(f_wb - y[i])\n",
    "        total_cost += cost\n",
    "    \n",
    "    total_cost /= (2*m)\n",
    "\n",
    "    return total_cost"
   ]
  },
  {
   "cell_type": "markdown",
   "id": "0fbcd969",
   "metadata": {},
   "source": [
    "The gradient descent algorithm is:\n",
    "<img src='https://editor.analyticsvidhya.com/uploads/97106gd4.jpeg' alt=\"Image\" width=\"400\"> <br>\n",
    "\n",
    "$$ \\begin{align*}& \\text{repeat until convergence:} \\; \\lbrace \\newline \\; & \\phantom {0000} b := b -  \\alpha \\frac{\\partial J(w,b)}{\\partial b} \\newline       \\; & \\phantom {0000} w := w -  \\alpha \\frac{\\partial J(w,b)}{\\partial w} \\tag{1}  \\; & \n",
    "\\newline & \\rbrace\\end{align*} $$\n",
    "\n",
    "where, parameters $w, b$ are both updated simultaniously and where  \n",
    "$$\n",
    "\\frac{\\partial J(w,b)}{\\partial b}  = \\frac{1}{m} \\sum\\limits_{i = 0}^{m-1} (f_{w,b}(x^{(i)}) - y^{(i)}) \\tag{2}\n",
    "$$\n",
    "$$\n",
    "\\frac{\\partial J(w,b)}{\\partial w}  = \\frac{1}{m} \\sum\\limits_{i = 0}^{m-1} (f_{w,b}(x^{(i)}) -y^{(i)})x^{(i)} \\tag{3}\n",
    "$$\n",
    "* m is the number of training examples in the dataset\n",
    "\n",
    " "
   ]
  },
  {
   "cell_type": "code",
   "execution_count": 13,
   "id": "c58c8875",
   "metadata": {},
   "outputs": [],
   "source": [
    "def compute_gradient(x, y, w=1 ,b=1):\n",
    "    \"\"\"\n",
    "    Computes the gradient for linear regression \n",
    "    Args:\n",
    "      x (ndarray): Shape (m,) Input to the model (Population of cities) \n",
    "      y (ndarray): Shape (m,) Label (Actual profits for the cities)\n",
    "      w, b (scalar): Parameters of the model  \n",
    "    Returns\n",
    "      dj_dw (scalar): The gradient of the cost w.r.t. the parameters w\n",
    "      dj_db (scalar): The gradient of the cost w.r.t. the parameter b     \n",
    "    \"\"\"\n",
    "    dj_dw = 0\n",
    "    dj_db = 0\n",
    "    m = len(x)\n",
    "    for i in range(m):\n",
    "        f_wb = w*x[i] + b\n",
    "        dj_dw_i = (f_wb - y[i])*x[i]\n",
    "        dj_db_i = f_wb - y[i]\n",
    "    \n",
    "        dj_dw += dj_dw_i\n",
    "        dj_db += dj_db_i\n",
    "        \n",
    "    dj_dw /= m\n",
    "    dj_db /= m\n",
    "    \n",
    "    return dj_dw, dj_db"
   ]
  },
  {
   "cell_type": "code",
   "execution_count": 14,
   "id": "c305c539",
   "metadata": {},
   "outputs": [],
   "source": [
    "def gradient_descent(x, y, w=0, b=0, alpha=0.009, iters=10000):\n",
    "    \"\"\"\n",
    "    Performs batch gradient descent to learn theta. Updates theta by taking \n",
    "    num_iters gradient steps with learning rate alpha\n",
    "    \n",
    "    Args:\n",
    "      x :    (ndarray): Shape (m,)\n",
    "      y :    (ndarray): Shape (m,)\n",
    "      w, b : (scalar) Initial values of parameters of the model\n",
    "      alpha : (float) Learning rate\n",
    "      num_iters : (int) number of iterations to run gradient descent\n",
    "    Returns\n",
    "      w : (ndarray): Updated values of parameters of the model after\n",
    "          running gradient descent\n",
    "      b : (scalar) : Updated value of parameter of the model after\n",
    "          running gradient descent\n",
    "    \"\"\"\n",
    "    # I fine tuned the values for no. of iterations and alpha to get a good result\n",
    "    # :') I finally got a good result\n",
    "    m = len(x)\n",
    "    for i in range(iters):\n",
    "        dj_dw, dj_db = compute_gradient(x, y, w, b )\n",
    "        w = w - alpha * dj_dw               \n",
    "        b = b - alpha * dj_db   \n",
    "        #if i%100 == 0:                  # uncomment to see the values of w,b change with grad desc.\n",
    "         #   print(dj_dw, dj_db, w, b)\n",
    "    return w,b"
   ]
  },
  {
   "cell_type": "code",
   "execution_count": 42,
   "id": "c7b747f4",
   "metadata": {},
   "outputs": [],
   "source": [
    "y = np.array(df['Salary($10000)']).reshape((-1, 1))\n",
    "X = np.array(df['Experience(Years)']).reshape((-1, 1))\n",
    "# I spent an hour wondering, even though my score is good why am i not getting an accurate prediction\n",
    "# I had X as the target variable the entire time \n",
    "# now i switched it back so it works\n"
   ]
  },
  {
   "cell_type": "code",
   "execution_count": 43,
   "id": "d69c7da5",
   "metadata": {
    "scrolled": true
   },
   "outputs": [],
   "source": [
    "w,b = gradient_descent(X,y)"
   ]
  },
  {
   "cell_type": "code",
   "execution_count": 44,
   "id": "5474eba5",
   "metadata": {},
   "outputs": [],
   "source": [
    "m = X.shape[0]\n",
    "predicted = np.zeros(m)\n",
    "\n",
    "for i in range(m):\n",
    "    predicted[i] = w * X[i] + b"
   ]
  },
  {
   "cell_type": "code",
   "execution_count": 45,
   "id": "0fdbed08",
   "metadata": {
    "scrolled": false
   },
   "outputs": [
    {
     "data": {
      "image/png": "[encoded data removed]",
      "text/plain": [
       "<Figure size 640x480 with 1 Axes>"
      ]
     },
     "metadata": {},
     "output_type": "display_data"
    }
   ],
   "source": [
    "plt.plot(X, predicted, c = \"b\")\n",
    "plt.scatter(X, y, marker='x', c='r') \n",
    "plt.title(\"Salary vs. Experience\")\n",
    "plt.ylabel('Salary ($10,000)')\n",
    "plt.xlabel('Experience(in years)')\n",
    "plt.show()"
   ]
  },
  {
   "cell_type": "markdown",
   "id": "8c55cd8d",
   "metadata": {},
   "source": [
    "Now using Scikit-learn's regression model for comparison"
   ]
  },
  {
   "cell_type": "code",
   "execution_count": 46,
   "id": "dde58dd9",
   "metadata": {},
   "outputs": [],
   "source": [
    "model = LinearRegression()\n",
    "\n",
    "model.fit(X, y)\n",
    "y_hat = model.predict(X)"
   ]
  },
  {
   "cell_type": "code",
   "execution_count": 47,
   "id": "380095d6",
   "metadata": {},
   "outputs": [
    {
     "data": {
      "image/png": "[encoded data removed]",
      "text/plain": [
       "<Figure size 640x480 with 1 Axes>"
      ]
     },
     "metadata": {},
     "output_type": "display_data"
    }
   ],
   "source": [
    "plt.plot(X, y_hat, c = \"b\")\n",
    "plt.scatter(X, y, marker='x', c='r') \n",
    "plt.title(\"Salary vs. Experience\")\n",
    "plt.ylabel('Salary ($10,000)')\n",
    "plt.xlabel('Experience(in years)')\n",
    "plt.show()"
   ]
  },
  {
   "cell_type": "markdown",
   "id": "4a5af260",
   "metadata": {},
   "source": [
    "Performance Comparison"
   ]
  },
  {
   "cell_type": "code",
   "execution_count": 48,
   "id": "3e6d78ff",
   "metadata": {},
   "outputs": [
    {
     "name": "stdout",
     "output_type": "stream",
     "text": [
      "mean sq error - 0.313\n",
      "Linear regression R2 value: 0.957\n",
      "w = 0.945, b = 2.485\n"
     ]
    }
   ],
   "source": [
    "# Scikit Learn\n",
    "print(f'mean sq error - {mean_squared_error(y, y_hat):3.3f}')\n",
    "print(f'Linear regression R2 value: {model.score(X, y):3.3f}')\n",
    "print(f'w = {model.coef_[0][0]:3.3f}, b = {model.intercept_[0]:3.3f}')"
   ]
  },
  {
   "cell_type": "code",
   "execution_count": 49,
   "id": "e404a5bc",
   "metadata": {},
   "outputs": [
    {
     "name": "stdout",
     "output_type": "stream",
     "text": [
      "mean sq error - 0.313\n",
      "Linear regression R2 value: 0.957\n",
      "w = 0.945, b = 2.485\n"
     ]
    }
   ],
   "source": [
    "# Grad desc\n",
    "print(f'mean sq error - {mean_squared_error(y, predicted):3.3f}')\n",
    "print(f'Linear regression R2 value: {r2_score(y, predicted):3.3f}')\n",
    "print(f'w = {w[0]:3.3f}, b = {b[0]:3.3f}')"
   ]
  },
  {
   "cell_type": "code",
   "execution_count": 50,
   "id": "a169ef5e",
   "metadata": {},
   "outputs": [
    {
     "data": {
      "text/plain": [
       "array([[3.61881588]])"
      ]
     },
     "execution_count": 50,
     "metadata": {},
     "output_type": "execute_result"
    }
   ],
   "source": [
    "model.predict(np.array(1.2).reshape(1, -1))"
   ]
  },
  {
   "cell_type": "markdown",
   "id": "e737185e",
   "metadata": {},
   "source": [
    "Both My model and the one created by scikit-learn have the exact same values for the model parameters"
   ]
  },
  {
   "cell_type": "markdown",
   "id": "2c5cd921",
   "metadata": {},
   "source": [
    "***"
   ]
  },
  {
   "cell_type": "markdown",
   "id": "04bfa9ac",
   "metadata": {},
   "source": [
    "## Exporting the Model\n",
    "\n",
    "I will be using the scikit-learn model rather than my own as it is easier to export and for the fact both have the exact same accuracy."
   ]
  },
  {
   "cell_type": "code",
   "execution_count": 51,
   "id": "fdf8c7ee",
   "metadata": {},
   "outputs": [],
   "source": [
    "data = {'model': model}\n",
    "with open('model.pk1', 'wb') as file:\n",
    "    pickle.dump(data, file)"
   ]
  },
  {
   "cell_type": "code",
   "execution_count": 52,
   "id": "72a63406",
   "metadata": {},
   "outputs": [
    {
     "data": {
      "text/plain": [
       "11.651283848463741"
      ]
     },
     "execution_count": 52,
     "metadata": {},
     "output_type": "execute_result"
    }
   ],
   "source": [
    "with open('model.pk1', 'rb') as file:\n",
    "    data = pickle.load(file)\n",
    "# testing   \n",
    "reg = data['model']\n",
    "salary = reg.predict(np.array(9.7).reshape(1, -1))\n",
    "salary[0][0]"
   ]
  },
  {
   "cell_type": "markdown",
   "id": "f7778791",
   "metadata": {},
   "source": [
    "***"
   ]
  }
 ],
 "metadata": {
  "kernelspec": {
   "display_name": "Python 3 (ipykernel)",
   "language": "python",
   "name": "python3"
  },
  "language_info": {
   "codemirror_mode": {
    "name": "ipython",
    "version": 3
   },
   "file_extension": ".py",
   "mimetype": "text/x-python",
   "name": "python",
   "nbconvert_exporter": "python",
   "pygments_lexer": "ipython3",
   "version": "3.10.11"
  }
 },
 "nbformat": 4,
 "nbformat_minor": 5
}
